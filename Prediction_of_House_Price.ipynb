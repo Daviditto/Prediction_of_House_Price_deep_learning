{
 "cells": [
  {
   "cell_type": "markdown",
   "id": "e9692376-5b79-4e9b-9f96-9f2ec1d8ce44",
   "metadata": {},
   "source": [
    "# Prediction of House Price"
   ]
  },
  {
   "cell_type": "markdown",
   "id": "e3e83659-8249-4e2c-b93a-929e37abd805",
   "metadata": {},
   "source": [
    "## load the dataset"
   ]
  },
  {
   "cell_type": "code",
   "execution_count": 2,
   "id": "1a8c327c-3c21-4a0f-ab68-6b01da6e02e7",
   "metadata": {},
   "outputs": [],
   "source": [
    "import tensorflow"
   ]
  },
  {
   "cell_type": "code",
   "execution_count": 4,
   "id": "ac66966d-a332-41ab-940f-cf16bd20af0d",
   "metadata": {},
   "outputs": [],
   "source": [
    "from tensorflow.keras.datasets import boston_housing"
   ]
  },
  {
   "cell_type": "code",
   "execution_count": 18,
   "id": "4107e263-d721-49ed-b69b-eaa87703f9be",
   "metadata": {},
   "outputs": [],
   "source": [
    "(train_data, train_targets), (test_data, test_targets) = boston_housing.load_data()"
   ]
  },
  {
   "cell_type": "code",
   "execution_count": 19,
   "id": "e9734a7e-966e-4a4b-b938-8ced04bf9836",
   "metadata": {},
   "outputs": [
    {
     "data": {
      "text/plain": [
       "(404, 13)"
      ]
     },
     "execution_count": 19,
     "metadata": {},
     "output_type": "execute_result"
    }
   ],
   "source": [
    "train_data.shape"
   ]
  },
  {
   "cell_type": "code",
   "execution_count": 20,
   "id": "a2040782-6e6d-4c4c-9a21-057f66cd7d97",
   "metadata": {},
   "outputs": [
    {
     "data": {
      "text/plain": [
       "(102, 13)"
      ]
     },
     "execution_count": 20,
     "metadata": {},
     "output_type": "execute_result"
    }
   ],
   "source": [
    "test_data.shape"
   ]
  },
  {
   "cell_type": "code",
   "execution_count": 21,
   "id": "0d2c04f3-fc75-458d-99dc-6c3698585998",
   "metadata": {},
   "outputs": [
    {
     "data": {
      "text/plain": [
       "144.39194712410696"
      ]
     },
     "execution_count": 21,
     "metadata": {},
     "output_type": "execute_result"
    }
   ],
   "source": [
    "train_data.std() # just to check"
   ]
  },
  {
   "cell_type": "markdown",
   "id": "ec123d5c-9fca-4346-9ae5-094723073a84",
   "metadata": {},
   "source": [
    "## normalizing the data"
   ]
  },
  {
   "cell_type": "code",
   "execution_count": 22,
   "id": "b0f3a2d9-5d93-4776-be58-bb004161c3bc",
   "metadata": {},
   "outputs": [],
   "source": [
    "mean = train_data.mean(axis=0)\n",
    "std = train_data.std(axis=0)"
   ]
  },
  {
   "cell_type": "code",
   "execution_count": 23,
   "id": "b3b284e8-2df3-467c-99a8-b960b895fd9d",
   "metadata": {},
   "outputs": [],
   "source": [
    "train_data -= mean"
   ]
  },
  {
   "cell_type": "code",
   "execution_count": 24,
   "id": "81a2dc44-b854-41b9-a970-9950bea86e3b",
   "metadata": {},
   "outputs": [],
   "source": [
    "train_data /= std"
   ]
  },
  {
   "cell_type": "code",
   "execution_count": 25,
   "id": "f808e3d0-fa9e-41d9-967d-4fcc5321ce65",
   "metadata": {},
   "outputs": [],
   "source": [
    "test_data -= mean"
   ]
  },
  {
   "cell_type": "code",
   "execution_count": 26,
   "id": "8ddd00ef-2fc3-4c60-b739-9c57630dca15",
   "metadata": {},
   "outputs": [],
   "source": [
    "test_data /= std"
   ]
  },
  {
   "cell_type": "code",
   "execution_count": 28,
   "id": "170e70c2-d4b1-4909-b0ad-cb34a1370b01",
   "metadata": {},
   "outputs": [
    {
     "data": {
      "text/plain": [
       "0.9999999999999993"
      ]
     },
     "execution_count": 28,
     "metadata": {},
     "output_type": "execute_result"
    }
   ],
   "source": [
    "train_data.std() # after normalizing the data"
   ]
  },
  {
   "cell_type": "markdown",
   "id": "07094654-2289-4cc2-b5e1-4d203b52ddc5",
   "metadata": {},
   "source": [
    "## build the neural network model"
   ]
  },
  {
   "cell_type": "code",
   "execution_count": 268,
   "id": "d2fd2a93-2fb0-4179-94d5-5d28445c42fe",
   "metadata": {},
   "outputs": [],
   "source": [
    "from tensorflow.keras import layers\n",
    "from tensorflow.keras import models"
   ]
  },
  {
   "cell_type": "code",
   "execution_count": 269,
   "id": "0d613957-0e05-4c9a-809a-8c9cda1bac1f",
   "metadata": {},
   "outputs": [],
   "source": [
    "network = models.Sequential()"
   ]
  },
  {
   "cell_type": "code",
   "execution_count": 270,
   "id": "3181fd20-15ef-4e9d-a27c-1ce0c625046c",
   "metadata": {},
   "outputs": [],
   "source": [
    "network.add(layers.Dense(64, activation='relu', input_shape=(train_data.shape[1],)))\n",
    "network.add(layers.Dense(64, activation='relu'))\n",
    "network.add(layers.Dense(1))\n",
    "network.compile(optimizer='rmsprop', loss='mse', metrics=['mae'])"
   ]
  },
  {
   "cell_type": "markdown",
   "id": "075cc6ef-73d9-42ca-aba9-8d2f17b2060c",
   "metadata": {},
   "source": [
    "## Use K-fold validation"
   ]
  },
  {
   "cell_type": "code",
   "execution_count": 292,
   "id": "fc949356-9240-4c77-8a09-ca18189cf0fc",
   "metadata": {},
   "outputs": [],
   "source": [
    "import numpy as np"
   ]
  },
  {
   "cell_type": "code",
   "execution_count": 293,
   "id": "4accfd9c-8184-44b4-a7ee-60b02d0771c2",
   "metadata": {},
   "outputs": [],
   "source": [
    "k = 4"
   ]
  },
  {
   "cell_type": "code",
   "execution_count": 294,
   "id": "f338afe9-27e1-4e52-b5f9-b7d0963f8874",
   "metadata": {},
   "outputs": [],
   "source": [
    "val_sample_size = len(train_data)//k"
   ]
  },
  {
   "cell_type": "code",
   "execution_count": 295,
   "id": "b6a7957a-49c6-4100-8661-629491861fa3",
   "metadata": {},
   "outputs": [],
   "source": [
    "all_scores = []\n",
    "for i in range(k):\n",
    "    val_data = train_data[i*val_sample_size: (i+1)*val_sample_size]\n",
    "    val_targets = train_targets[i*val_sample_size: (i+1)*val_sample_size]\n",
    "    partial_train_data = np.concatenate([train_data[:i*val_sample_size], train_data[(i+1)*val_sample_size:]], axis=0)\n",
    "    partial_train_targets = np.concatenate([train_targets[:i*val_sample_size], train_targets[(i+1)*val_sample_size:]], axis=0)\n",
    "    \n",
    "    network.fit(partial_train_data, partial_train_targets, epochs=100, batch_size=1, verbose=0)\n",
    "    val_mse, val_mae = network.evaluate(val_data, val_targets,verbose=0)\n",
    "    all_scores.append(val_mae)"
   ]
  },
  {
   "cell_type": "code",
   "execution_count": 296,
   "id": "10f55406-4ce7-4cb1-ba06-defe67e4abd4",
   "metadata": {},
   "outputs": [
    {
     "data": {
      "text/plain": [
       "[1.1834250901005057,\n",
       " 1.0508086226954318,\n",
       " 1.0621395288127484,\n",
       " 0.8639742206818987]"
      ]
     },
     "execution_count": 296,
     "metadata": {},
     "output_type": "execute_result"
    }
   ],
   "source": [
    "all_scores"
   ]
  },
  {
   "cell_type": "code",
   "execution_count": 297,
   "id": "d86ec6e1-d8d2-4267-b04e-43dc4742c214",
   "metadata": {},
   "outputs": [
    {
     "data": {
      "text/plain": [
       "1.040086865572646"
      ]
     },
     "execution_count": 297,
     "metadata": {},
     "output_type": "execute_result"
    }
   ],
   "source": [
    "np.mean(all_scores)"
   ]
  },
  {
   "cell_type": "code",
   "execution_count": null,
   "id": "d692e625-bd11-422b-880d-41e295376d9a",
   "metadata": {},
   "outputs": [],
   "source": []
  },
  {
   "cell_type": "code",
   "execution_count": 91,
   "id": "473ee5ea-c351-45d8-83f1-c298de65db7a",
   "metadata": {},
   "outputs": [],
   "source": [
    "# lets make the epoch size bigger, say 500"
   ]
  },
  {
   "cell_type": "code",
   "execution_count": 298,
   "id": "e886e1bc-e9a3-49b6-bfae-e20324080244",
   "metadata": {},
   "outputs": [],
   "source": [
    "model = models.Sequential()"
   ]
  },
  {
   "cell_type": "code",
   "execution_count": 299,
   "id": "2db73498-c6f2-4c4d-a77a-da8ac697c90d",
   "metadata": {},
   "outputs": [],
   "source": [
    "model.add(layers.Dense(64, activation='relu', input_shape=(train_data.shape[1],)))\n",
    "model.add(layers.Dense(64, activation='relu'))\n",
    "model.add(layers.Dense(1))\n",
    "model.compile(optimizer='rmsprop', loss='mse', metrics=['mae'])"
   ]
  },
  {
   "cell_type": "code",
   "execution_count": 300,
   "id": "eace71b9-f3fd-40ba-96ac-e0824cf0c272",
   "metadata": {},
   "outputs": [],
   "source": [
    "import matplotlib.pyplot as plt"
   ]
  },
  {
   "cell_type": "code",
   "execution_count": 301,
   "id": "4ed61b4e-6fa0-4241-8b94-dc3d2a36470d",
   "metadata": {},
   "outputs": [],
   "source": [
    "all_mae_histories = []\n",
    "for i in range(k):\n",
    "    val_data = train_data[i*val_sample_size: (i+1)*val_sample_size]\n",
    "    val_targets = train_targets[i*val_sample_size: (i+1)*val_sample_size]\n",
    "    partial_train_data = np.concatenate([train_data[:i*val_sample_size], train_data[(i+1)*val_sample_size:]], axis=0)\n",
    "    partial_train_targets = np.concatenate([train_targets[:i*val_sample_size], train_targets[(i+1)*val_sample_size:]], axis=0)\n",
    "    \n",
    "    model.fit(partial_train_data, partial_train_targets, validation_data=(val_data, val_targets), epochs=500, batch_size=1, verbose=0)\n",
    "    mae_history  = model.history.history['val_mean_absolute_error']\n",
    "    all_mae_histories.append(mae_history)"
   ]
  },
  {
   "cell_type": "code",
   "execution_count": 302,
   "id": "24b1fe03-3e03-40a7-bbe4-ad2c4069c788",
   "metadata": {},
   "outputs": [
    {
     "data": {
      "text/plain": [
       "dict_keys(['val_loss', 'val_mean_absolute_error', 'loss', 'mean_absolute_error'])"
      ]
     },
     "execution_count": 302,
     "metadata": {},
     "output_type": "execute_result"
    }
   ],
   "source": [
    "model.history.history.keys()"
   ]
  },
  {
   "cell_type": "code",
   "execution_count": 303,
   "id": "ddad5e4e-226c-4790-ad12-f069417c8acc",
   "metadata": {},
   "outputs": [],
   "source": [
    "avg_mae_history = [np.mean([x[i] for x in all_mae_histories]) for i in range(500)]"
   ]
  },
  {
   "cell_type": "code",
   "execution_count": 304,
   "id": "1d4a3c6e-f42e-415e-ab05-00d82668515e",
   "metadata": {},
   "outputs": [
    {
     "data": {
      "image/png": "[encoded data removed]",
      "text/plain": [
       "<Figure size 1440x432 with 1 Axes>"
      ]
     },
     "metadata": {
      "needs_background": "light"
     },
     "output_type": "display_data"
    }
   ],
   "source": [
    "plt.plot(range(1, len(avg_mae_history)+1), avg_mae_history)\n",
    "fig=plt.gcf()\n",
    "fig.set_size_inches(20,6)"
   ]
  },
  {
   "cell_type": "code",
   "execution_count": 305,
   "id": "296faa70-f641-4223-bfdc-06e0dab02c60",
   "metadata": {},
   "outputs": [],
   "source": [
    "def smooth_curve(points, factor=0.9):\n",
    "    smoothed_points = [] \n",
    "    for point in points:\n",
    "        if smoothed_points:\n",
    "            previous = smoothed_points[-1]\n",
    "            smoothed_points.append(previous * factor + point * (1 - factor))\n",
    "        else:\n",
    "            smoothed_points.append(point) \n",
    "    return smoothed_points"
   ]
  },
  {
   "cell_type": "code",
   "execution_count": 306,
   "id": "f5e40d6e-5f20-4fbc-9494-69023b2ec935",
   "metadata": {},
   "outputs": [],
   "source": [
    "hist = smooth_curve(avg_mae_history)"
   ]
  },
  {
   "cell_type": "code",
   "execution_count": 330,
   "id": "f5f627b8-fe80-49a8-9cce-cc6052ea23af",
   "metadata": {},
   "outputs": [
    {
     "data": {
      "image/png": "[encoded data removed]",
      "text/plain": [
       "<Figure size 1440x432 with 1 Axes>"
      ]
     },
     "metadata": {
      "needs_background": "light"
     },
     "output_type": "display_data"
    }
   ],
   "source": [
    "plt.plot(range(1, len(avg_mae_history)+1), hist)\n",
    "ax = plt.gca()\n",
    "ax.xaxis.set_minor_locator(plt.MultipleLocator(15))\n",
    "fig=plt.gcf()\n",
    "fig.set_size_inches(20,6)"
   ]
  },
  {
   "cell_type": "markdown",
   "id": "64d05c02-60f3-433f-8eba-ed13586a960b",
   "metadata": {},
   "source": [
    "## build the final model"
   ]
  },
  {
   "cell_type": "code",
   "execution_count": 325,
   "id": "169023bf-6d53-485c-807e-30791b263828",
   "metadata": {},
   "outputs": [],
   "source": [
    "model_final = models.Sequential()"
   ]
  },
  {
   "cell_type": "code",
   "execution_count": 379,
   "id": "ce79466c-a73d-4026-b52f-3ecc1ab1b56e",
   "metadata": {},
   "outputs": [],
   "source": [
    "model_final.add(layers.Dense(64, activation='relu', input_shape=(train_data.shape[1],)))\n",
    "model_final.add(layers.Dense(64, activation='relu'))\n",
    "model_final.add(layers.Dense(1))\n",
    "model_final.compile(optimizer='rmsprop', loss='mse', metrics=['mae'])"
   ]
  },
  {
   "cell_type": "code",
   "execution_count": 389,
   "id": "abda9c57-1f77-4830-96f4-c8c62e32b2ad",
   "metadata": {},
   "outputs": [
    {
     "data": {
      "text/plain": [
       "<tensorflow.python.keras.callbacks.History at 0x7fdb282eae20>"
      ]
     },
     "execution_count": 389,
     "metadata": {},
     "output_type": "execute_result"
    }
   ],
   "source": [
    "model_final.fit(train_data, train_targets, epochs=15, batch_size=16, verbose=0)"
   ]
  },
  {
   "cell_type": "code",
   "execution_count": 390,
   "id": "5d56f534-5287-4e95-80f2-b28d3fb14790",
   "metadata": {},
   "outputs": [
    {
     "name": "stdout",
     "output_type": "stream",
     "text": [
      "102/102 [==============================] - 0s 49us/step\n"
     ]
    }
   ],
   "source": [
    "test_mse_score, test_mae_score = model_final.evaluate(test_data, test_targets)"
   ]
  },
  {
   "cell_type": "code",
   "execution_count": 391,
   "id": "7f9e35ef-1743-409a-80b9-be81264eb8fb",
   "metadata": {},
   "outputs": [
    {
     "data": {
      "text/plain": [
       "2.3801214554730583"
      ]
     },
     "execution_count": 391,
     "metadata": {},
     "output_type": "execute_result"
    }
   ],
   "source": [
    "test_mae_score # the prediction is off by 2300$"
   ]
  },
  {
   "cell_type": "code",
   "execution_count": null,
   "id": "447ae053-1bcc-4d3e-be1d-da222ae06548",
   "metadata": {},
   "outputs": [],
   "source": []
  },
  {
   "cell_type": "code",
   "execution_count": null,
   "id": "bb41a9f0-e6bf-4708-890d-e378384ee4c6",
   "metadata": {},
   "outputs": [],
   "source": []
  }
 ],
 "metadata": {
  "kernelspec": {
   "display_name": "Python 3 (ipykernel)",
   "language": "python",
   "name": "python3"
  },
  "language_info": {
   "codemirror_mode": {
    "name": "ipython",
    "version": 3
   },
   "file_extension": ".py",
   "mimetype": "text/x-python",
   "name": "python",
   "nbconvert_exporter": "python",
   "pygments_lexer": "ipython3",
   "version": "3.9.7"
  }
 },
 "nbformat": 4,
 "nbformat_minor": 5
}
